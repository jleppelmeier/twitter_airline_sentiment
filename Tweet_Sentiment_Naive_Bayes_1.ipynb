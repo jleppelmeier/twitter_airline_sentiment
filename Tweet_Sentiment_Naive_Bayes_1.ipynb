{
  "nbformat": 4,
  "nbformat_minor": 0,
  "metadata": {
    "colab": {
      "name": "Tweet Sentiment - Naive Bayes 1.ipynb",
      "version": "0.3.2",
      "provenance": []
    },
    "kernelspec": {
      "display_name": "Python 3",
      "language": "python",
      "name": "python3"
    }
  },
  "cells": [
    {
      "cell_type": "markdown",
      "metadata": {
        "id": "vd2xvnXiiiqZ",
        "colab_type": "text"
      },
      "source": [
        "## Naive Bayes\n",
        "\n",
        " This has been updated to match our newest preprocessing and subsampling"
      ]
    },
    {
      "cell_type": "code",
      "metadata": {
        "id": "RjCsLydKSKth",
        "colab_type": "code",
        "outputId": "aec87796-c56e-4ea3-fa66-49179e26ad10",
        "colab": {
          "base_uri": "https://localhost:8080/",
          "height": 182
        }
      },
      "source": [
        "import pandas as pd\n",
        "\n",
        "# Training Set:\n",
        "!gdown https://drive.google.com/uc?id=1BLT_kqE1Uz0-NNDU1_BfoSPyV_EXGOxT\n",
        "# Test Set:\n",
        "!gdown https://drive.google.com/uc?id=1bF3gAkMFprumMgRWoNW3PFWXsxBY1Fqj\n",
        "\n",
        "tweets_train = pd.read_excel('Tweet_Train_Set.xlsx', encoding='UTF-8')\n",
        "tweets_test = pd.read_excel('Tweet_Test_Set.xlsx', encoding='UTF-8')\n"
      ],
      "execution_count": 1,
      "outputs": [
        {
          "output_type": "stream",
          "text": [
            "Downloading...\n",
            "From: https://drive.google.com/uc?id=1BLT_kqE1Uz0-NNDU1_BfoSPyV_EXGOxT\n",
            "To: /content/Tweet_Train_Set.xlsx\n",
            "100% 1.22M/1.22M [00:00<00:00, 77.4MB/s]\n",
            "Downloading...\n",
            "From: https://drive.google.com/uc?id=1bF3gAkMFprumMgRWoNW3PFWXsxBY1Fqj\n",
            "To: /content/Tweet_Test_Set.xlsx\n",
            "100% 535k/535k [00:00<00:00, 87.0MB/s]\n"
          ],
          "name": "stdout"
        }
      ]
    },
    {
      "cell_type": "code",
      "metadata": {
        "id": "jQCESiRZic6p",
        "colab_type": "code",
        "colab": {}
      },
      "source": [
        "# Import pandas and sklearn:\n",
        "\n",
        "import pandas as pd\n",
        "import numpy as np\n",
        "from sklearn.feature_extraction.text import CountVectorizer\n",
        "from sklearn.feature_extraction.text import TfidfVectorizer\n",
        "\n",
        "from sklearn.preprocessing import LabelEncoder\n",
        "from sklearn.naive_bayes import MultinomialNB\n",
        "from sklearn.svm import SVC\n",
        "from sklearn.model_selection import train_test_split\n",
        "from sklearn.metrics import confusion_matrix\n",
        "from sklearn.metrics import precision_recall_fscore_support"
      ],
      "execution_count": 0,
      "outputs": []
    },
    {
      "cell_type": "code",
      "metadata": {
        "id": "WPb_HkSmYFp6",
        "colab_type": "code",
        "colab": {}
      },
      "source": [
        ""
      ],
      "execution_count": 0,
      "outputs": []
    },
    {
      "cell_type": "markdown",
      "metadata": {
        "id": "cBzvrDo1jcLJ",
        "colab_type": "text"
      },
      "source": [
        "#### Preprocessing\n",
        "\n",
        "---\n",
        "This section uses our latest preprocessing."
      ]
    },
    {
      "cell_type": "code",
      "metadata": {
        "id": "j6KBwM6HX4e8",
        "colab_type": "code",
        "colab": {}
      },
      "source": [
        "def preprocess(tweets):\n",
        "\n",
        "  import nltk\n",
        "  from nltk.stem import SnowballStemmer, PorterStemmer\n",
        "  from nltk.tokenize import word_tokenize\n",
        "  from nltk.corpus import stopwords\n",
        "  \n",
        "  nltk.download('stopwords')\n",
        "  nltk.download('punkt')\n",
        "  \n",
        "  ss = SnowballStemmer('english')\n",
        "  \n",
        "    #new ones:\n",
        "  tweets['punct_removed'] = tweets['text'].str.replace(r'@\\w+', r'at_user')\n",
        "  tweets['punct_removed'] = tweets['punct_removed'].str.replace(r\"http\\S+\", r'')\n",
        "  \n",
        "  tweets['punct_removed'] = tweets['punct_removed'].str.replace(r'[^a-zA-Z0-9!)\\( ]',r'')\n",
        "  \n",
        "  \n",
        "  tweets['punct_removed'] = tweets['punct_removed'].str.lower()\n",
        "  tweets['tokenized'] = tweets['punct_removed'].apply(word_tokenize)\n",
        "  \n",
        "  stops = stopwords.words('english')\n",
        "  tweets['tokenized'] = tweets['tokenized'].apply(lambda x: [item for item in x if item not in stops])\n",
        "\n",
        "  tweets['stemmed'] = tweets['tokenized'].apply(lambda x: [ss.stem(y) for y in x])\n",
        "\n",
        "  \n",
        "  return tweets\n",
        "\n",
        "\n"
      ],
      "execution_count": 0,
      "outputs": []
    },
    {
      "cell_type": "code",
      "metadata": {
        "id": "I9C_CmxHY5gF",
        "colab_type": "code",
        "outputId": "d2dd093c-e1aa-4cc9-bb94-b14f20aabaa3",
        "colab": {
          "base_uri": "https://localhost:8080/",
          "height": 153
        }
      },
      "source": [
        "#tweets = preprocess(tweets)\n",
        "\n",
        "tweets_train = preprocess(tweets_train)\n",
        "tweets_test = preprocess(tweets_test)"
      ],
      "execution_count": 4,
      "outputs": [
        {
          "output_type": "stream",
          "text": [
            "[nltk_data] Downloading package stopwords to /root/nltk_data...\n",
            "[nltk_data]   Unzipping corpora/stopwords.zip.\n",
            "[nltk_data] Downloading package punkt to /root/nltk_data...\n",
            "[nltk_data]   Unzipping tokenizers/punkt.zip.\n",
            "[nltk_data] Downloading package stopwords to /root/nltk_data...\n",
            "[nltk_data]   Package stopwords is already up-to-date!\n",
            "[nltk_data] Downloading package punkt to /root/nltk_data...\n",
            "[nltk_data]   Package punkt is already up-to-date!\n"
          ],
          "name": "stdout"
        }
      ]
    },
    {
      "cell_type": "code",
      "metadata": {
        "id": "bsnOeJC5Z_7q",
        "colab_type": "code",
        "colab": {}
      },
      "source": [
        "def do_nothing(input):\n",
        "  return input\n",
        "\n",
        "cv = CountVectorizer(preprocessor = do_nothing,\n",
        "                             tokenizer = do_nothing,\n",
        "                             analyzer = do_nothing)        #Used to making a matrix                      "
      ],
      "execution_count": 0,
      "outputs": []
    },
    {
      "cell_type": "code",
      "metadata": {
        "id": "1Q4bmkFFic7Y",
        "colab_type": "code",
        "colab": {}
      },
      "source": [
        ""
      ],
      "execution_count": 0,
      "outputs": []
    },
    {
      "cell_type": "code",
      "metadata": {
        "id": "2DcE3QR7ic7b",
        "colab_type": "code",
        "colab": {}
      },
      "source": [
        "#dtm = cv.fit_transform(tweets['stemmed'])\n",
        "\n",
        "X_train = cv.fit_transform(tweets_train['stemmed'])\n",
        "X_test = cv.transform(tweets_test['stemmed'])\n",
        "\n",
        "le = LabelEncoder()\n",
        "\n",
        "#labels = tweets.airline_sentiment\n",
        "#labels = le.fit_transform(labels)\n",
        "\n",
        "train_labels = tweets_train['airline_sentiment']\n",
        "test_labels = tweets_test['airline_sentiment']\n",
        "\n",
        "y_train = le.fit_transform(train_labels)\n",
        "y_test = le.transform(test_labels)"
      ],
      "execution_count": 0,
      "outputs": []
    },
    {
      "cell_type": "code",
      "metadata": {
        "id": "OvnMneT3ic7s",
        "colab_type": "code",
        "colab": {}
      },
      "source": [
        ""
      ],
      "execution_count": 0,
      "outputs": []
    },
    {
      "cell_type": "markdown",
      "metadata": {
        "id": "UzonkSDUtOli",
        "colab_type": "text"
      },
      "source": [
        "#### Init and Train the Naive Bayes Model\n",
        "___"
      ]
    },
    {
      "cell_type": "code",
      "metadata": {
        "id": "LeBeDEJBic7x",
        "colab_type": "code",
        "colab": {}
      },
      "source": [
        "# since the data is word counts, use Multinomial Distribution:  create untrained modal\n",
        "\n",
        "nb = MultinomialNB()"
      ],
      "execution_count": 0,
      "outputs": []
    },
    {
      "cell_type": "code",
      "metadata": {
        "id": "ksJBhQCMic7z",
        "colab_type": "code",
        "outputId": "e4de8f9d-7d04-4de6-ac24-fa22687bff54",
        "colab": {
          "base_uri": "https://localhost:8080/",
          "height": 34
        }
      },
      "source": [
        "nb.fit(X_train, y_train)  #X matrix , y is list"
      ],
      "execution_count": 8,
      "outputs": [
        {
          "output_type": "execute_result",
          "data": {
            "text/plain": [
              "MultinomialNB(alpha=1.0, class_prior=None, fit_prior=True)"
            ]
          },
          "metadata": {
            "tags": []
          },
          "execution_count": 8
        }
      ]
    },
    {
      "cell_type": "markdown",
      "metadata": {
        "id": "w4yHa19ZtXPn",
        "colab_type": "text"
      },
      "source": [
        "#### Evaluate model"
      ]
    },
    {
      "cell_type": "code",
      "metadata": {
        "id": "ed__u8hSic71",
        "colab_type": "code",
        "outputId": "07339104-2fb9-40f3-9306-fcb30a61ee56",
        "colab": {
          "base_uri": "https://localhost:8080/",
          "height": 34
        }
      },
      "source": [
        "# get test accuracy:\n",
        "nb.score(X_test, y_test)"
      ],
      "execution_count": 9,
      "outputs": [
        {
          "output_type": "execute_result",
          "data": {
            "text/plain": [
              "0.7343676539727315"
            ]
          },
          "metadata": {
            "tags": []
          },
          "execution_count": 9
        }
      ]
    },
    {
      "cell_type": "markdown",
      "metadata": {
        "id": "rYlzNpZL56CB",
        "colab_type": "text"
      },
      "source": [
        ""
      ]
    },
    {
      "cell_type": "code",
      "metadata": {
        "id": "zAUKJF4jic75",
        "colab_type": "code",
        "colab": {}
      },
      "source": [
        "# get test set predictions:\n",
        "y_hat = nb.predict(X_test)"
      ],
      "execution_count": 0,
      "outputs": []
    },
    {
      "cell_type": "code",
      "metadata": {
        "id": "WXk5tUN4ic76",
        "colab_type": "code",
        "colab": {}
      },
      "source": [
        "# create confusion matrix:\n",
        "cf = pd.DataFrame(confusion_matrix(y_test,y_hat))\n",
        "cf.columns = le.inverse_transform(cf.columns)\n",
        "cf.index = le.inverse_transform(cf.index)"
      ],
      "execution_count": 0,
      "outputs": []
    },
    {
      "cell_type": "code",
      "metadata": {
        "id": "wZ8jHkXBic78",
        "colab_type": "code",
        "outputId": "76b06d71-15de-47a6-917f-7b3a54e363e5",
        "colab": {
          "base_uri": "https://localhost:8080/",
          "height": 142
        }
      },
      "source": [
        "cf"
      ],
      "execution_count": 12,
      "outputs": [
        {
          "output_type": "execute_result",
          "data": {
            "text/html": [
              "<div>\n",
              "<style scoped>\n",
              "    .dataframe tbody tr th:only-of-type {\n",
              "        vertical-align: middle;\n",
              "    }\n",
              "\n",
              "    .dataframe tbody tr th {\n",
              "        vertical-align: top;\n",
              "    }\n",
              "\n",
              "    .dataframe thead th {\n",
              "        text-align: right;\n",
              "    }\n",
              "</style>\n",
              "<table border=\"1\" class=\"dataframe\">\n",
              "  <thead>\n",
              "    <tr style=\"text-align: right;\">\n",
              "      <th></th>\n",
              "      <th>negative</th>\n",
              "      <th>neutral</th>\n",
              "      <th>positive</th>\n",
              "    </tr>\n",
              "  </thead>\n",
              "  <tbody>\n",
              "    <tr>\n",
              "      <th>negative</th>\n",
              "      <td>581</td>\n",
              "      <td>65</td>\n",
              "      <td>63</td>\n",
              "    </tr>\n",
              "    <tr>\n",
              "      <th>neutral</th>\n",
              "      <td>161</td>\n",
              "      <td>399</td>\n",
              "      <td>149</td>\n",
              "    </tr>\n",
              "    <tr>\n",
              "      <th>positive</th>\n",
              "      <td>72</td>\n",
              "      <td>55</td>\n",
              "      <td>582</td>\n",
              "    </tr>\n",
              "  </tbody>\n",
              "</table>\n",
              "</div>"
            ],
            "text/plain": [
              "          negative  neutral  positive\n",
              "negative       581       65        63\n",
              "neutral        161      399       149\n",
              "positive        72       55       582"
            ]
          },
          "metadata": {
            "tags": []
          },
          "execution_count": 12
        }
      ]
    },
    {
      "cell_type": "code",
      "metadata": {
        "id": "vdtSyof_ic7-",
        "colab_type": "code",
        "colab": {}
      },
      "source": [
        ""
      ],
      "execution_count": 0,
      "outputs": []
    },
    {
      "cell_type": "code",
      "metadata": {
        "id": "w5_7Pcg0ic7_",
        "colab_type": "code",
        "outputId": "17c242be-757f-48f3-bb5a-85ca9d6c2f33",
        "colab": {
          "base_uri": "https://localhost:8080/",
          "height": 68
        }
      },
      "source": [
        "prfs = precision_recall_fscore_support(y_test,y_hat, average='macro')   #text data hence\n",
        "\n",
        "print(\"Precision:\\t{0:.4f} \\nRecall: \\t{1:.4f} \\nF Score: \\t{2:.4f}\".format(prfs[0],prfs[1],prfs[2]))"
      ],
      "execution_count": 13,
      "outputs": [
        {
          "output_type": "stream",
          "text": [
            "Precision:\t0.7385 \n",
            "Recall: \t0.7344 \n",
            "F Score: \t0.7291\n"
          ],
          "name": "stdout"
        }
      ]
    },
    {
      "cell_type": "code",
      "metadata": {
        "id": "COjRWwBKic8E",
        "colab_type": "code",
        "colab": {}
      },
      "source": [
        ""
      ],
      "execution_count": 0,
      "outputs": []
    },
    {
      "cell_type": "code",
      "metadata": {
        "id": "5ps9esOsic8F",
        "colab_type": "code",
        "colab": {}
      },
      "source": [
        ""
      ],
      "execution_count": 0,
      "outputs": []
    },
    {
      "cell_type": "code",
      "metadata": {
        "id": "cengsM03ic8G",
        "colab_type": "code",
        "colab": {}
      },
      "source": [
        ""
      ],
      "execution_count": 0,
      "outputs": []
    }
  ]
}