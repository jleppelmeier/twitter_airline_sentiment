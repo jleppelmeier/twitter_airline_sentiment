{
  "nbformat": 4,
  "nbformat_minor": 0,
  "metadata": {
    "colab": {
      "name": "airline_sentiment_SVM.ipynb",
      "version": "0.3.2",
      "provenance": [],
      "collapsed_sections": [],
      "toc_visible": true
    },
    "kernelspec": {
      "name": "python3",
      "display_name": "Python 3"
    }
  },
  "cells": [
    {
      "cell_type": "markdown",
      "metadata": {
        "id": "OpY3_62Sd2uF",
        "colab_type": "text"
      },
      "source": [
        "# Airline Twitter Sentiment: SVM Classification"
      ]
    },
    {
      "cell_type": "markdown",
      "metadata": {
        "id": "6lhfFhW_gCYq",
        "colab_type": "text"
      },
      "source": [
        "### Loading and Preparing the Data"
      ]
    },
    {
      "cell_type": "code",
      "metadata": {
        "id": "AGEv7QXZR0ix",
        "colab_type": "code",
        "colab": {}
      },
      "source": [
        "import pandas as pd\n",
        "import numpy as np\n",
        " \n",
        "from sklearn.model_selection import train_test_split\n",
        "from sklearn.metrics import confusion_matrix\n",
        "from sklearn.metrics import precision_recall_fscore_support"
      ],
      "execution_count": 0,
      "outputs": []
    },
    {
      "cell_type": "code",
      "metadata": {
        "id": "9St5PzdXSIyd",
        "colab_type": "code",
        "outputId": "d15c0ae1-b732-4c0b-f19a-c4e9e3c3b0a8",
        "colab": {
          "base_uri": "https://localhost:8080/",
          "height": 182
        }
      },
      "source": [
        "\n",
        "# Training Set:\n",
        "!gdown https://drive.google.com/uc?id=1BLT_kqE1Uz0-NNDU1_BfoSPyV_EXGOxT\n",
        "# Test Set:\n",
        "!gdown https://drive.google.com/uc?id=1bF3gAkMFprumMgRWoNW3PFWXsxBY1Fqj\n"
      ],
      "execution_count": 0,
      "outputs": [
        {
          "output_type": "stream",
          "text": [
            "Downloading...\n",
            "From: https://drive.google.com/uc?id=1BLT_kqE1Uz0-NNDU1_BfoSPyV_EXGOxT\n",
            "To: /content/Tweet_Train_Set.xlsx\n",
            "100% 1.22M/1.22M [00:00<00:00, 73.5MB/s]\n",
            "Downloading...\n",
            "From: https://drive.google.com/uc?id=1bF3gAkMFprumMgRWoNW3PFWXsxBY1Fqj\n",
            "To: /content/Tweet_Test_Set.xlsx\n",
            "100% 535k/535k [00:00<00:00, 79.2MB/s]\n"
          ],
          "name": "stdout"
        }
      ]
    },
    {
      "cell_type": "code",
      "metadata": {
        "id": "ILrub4dyTwhE",
        "colab_type": "code",
        "outputId": "5452cabc-4cf8-4cce-8426-5d4ff6f19812",
        "colab": {
          "base_uri": "https://localhost:8080/",
          "height": 97
        }
      },
      "source": [
        "%ls"
      ],
      "execution_count": 0,
      "outputs": [
        {
          "output_type": "stream",
          "text": [
            "\u001b[0m\u001b[01;34msample_data\u001b[0m/               svm_raw_grid_results.csv  Tweet_Train_Set.xlsx\n",
            "slang_list.txt             Tweets.csv\n",
            "svm_raw_grid_results2.csv  Tweet_Test_Set.xlsx\n"
          ],
          "name": "stdout"
        }
      ]
    },
    {
      "cell_type": "code",
      "metadata": {
        "id": "WC14u1CuT3jM",
        "colab_type": "code",
        "colab": {}
      },
      "source": [
        "tweets_train = pd.read_excel('Tweet_Train_Set.xlsx', encoding='UTF-8')\n",
        "tweets_test = pd.read_excel('Tweet_Test_Set.xlsx', encoding='UTF-8')"
      ],
      "execution_count": 0,
      "outputs": []
    },
    {
      "cell_type": "code",
      "metadata": {
        "id": "ikWZjQGBT_3l",
        "colab_type": "code",
        "colab": {}
      },
      "source": [
        "def preprocess(tweets):\n",
        "\n",
        "  import nltk\n",
        "  from nltk.stem import SnowballStemmer, PorterStemmer\n",
        "  from nltk.tokenize import word_tokenize\n",
        "  from nltk.corpus import stopwords\n",
        "  \n",
        "  nltk.download('stopwords')\n",
        "  nltk.download('punkt')\n",
        "  \n",
        "  ss = SnowballStemmer('english')\n",
        "  \n",
        "  tweets['punct_removed'] = tweets['text'].str.replace(r'@\\w+', r'at_user')\n",
        "  tweets['punct_removed'] = tweets['punct_removed'].str.replace(r\"http\\S+\", r'')\n",
        "  \n",
        "  tweets['punct_removed'] = tweets['punct_removed'].str.replace(r'[^a-zA-Z0-9!)\\( ]',r'')\n",
        "  \n",
        "  \n",
        "  tweets['punct_removed'] = tweets['punct_removed'].str.lower()\n",
        "  tweets['tokenized'] = tweets['punct_removed'].apply(word_tokenize)\n",
        "  \n",
        "  stops = stopwords.words('english')\n",
        "  tweets['tokenized'] = tweets['tokenized'].apply(lambda x: [item for item in x if item not in stops])\n",
        "\n",
        "  tweets['stemmed'] = tweets['tokenized'].apply(lambda x: [ss.stem(y) for y in x])\n",
        "\n",
        "  \n",
        "  return tweets\n",
        "\n",
        "\n"
      ],
      "execution_count": 0,
      "outputs": []
    },
    {
      "cell_type": "code",
      "metadata": {
        "id": "Pd7d3p4nWf6W",
        "colab_type": "code",
        "outputId": "f1bb4721-a5a7-46d4-d513-8162f88a0302",
        "colab": {
          "base_uri": "https://localhost:8080/",
          "height": 153
        }
      },
      "source": [
        "tweets_train = preprocess(tweets_train)\n",
        "tweets_test = preprocess(tweets_test)"
      ],
      "execution_count": 0,
      "outputs": [
        {
          "output_type": "stream",
          "text": [
            "[nltk_data] Downloading package stopwords to /root/nltk_data...\n",
            "[nltk_data]   Package stopwords is already up-to-date!\n",
            "[nltk_data] Downloading package punkt to /root/nltk_data...\n",
            "[nltk_data]   Package punkt is already up-to-date!\n",
            "[nltk_data] Downloading package stopwords to /root/nltk_data...\n",
            "[nltk_data]   Package stopwords is already up-to-date!\n",
            "[nltk_data] Downloading package punkt to /root/nltk_data...\n",
            "[nltk_data]   Package punkt is already up-to-date!\n"
          ],
          "name": "stdout"
        }
      ]
    },
    {
      "cell_type": "code",
      "metadata": {
        "id": "21S50WyZKorL",
        "colab_type": "code",
        "colab": {}
      },
      "source": [
        "from sklearn.feature_extraction.text import CountVectorizer\n",
        "from sklearn.svm import SVC"
      ],
      "execution_count": 0,
      "outputs": []
    },
    {
      "cell_type": "code",
      "metadata": {
        "id": "LDu3KtQCWf8-",
        "colab_type": "code",
        "colab": {}
      },
      "source": [
        "def do_nothing(input):\n",
        "  return input\n",
        "\n",
        "cv = CountVectorizer(preprocessor = do_nothing,\n",
        "                             tokenizer = do_nothing,\n",
        "                             analyzer = do_nothing)\n",
        "                      "
      ],
      "execution_count": 0,
      "outputs": []
    },
    {
      "cell_type": "code",
      "metadata": {
        "id": "Wj6q2wJDXys9",
        "colab_type": "code",
        "colab": {}
      },
      "source": [
        "X_train = cv.fit_transform(tweets_train['stemmed'])\n",
        "X_test = cv.transform(tweets_test['stemmed'])\n",
        "\n",
        "from sklearn.preprocessing import LabelEncoder\n",
        "le = LabelEncoder()\n",
        "\n",
        "train_labels = tweets_train['airline_sentiment']\n",
        "test_labels = tweets_test['airline_sentiment']\n",
        "\n",
        "y_train = le.fit_transform(train_labels)\n",
        "y_test = le.transform(test_labels)"
      ],
      "execution_count": 0,
      "outputs": []
    },
    {
      "cell_type": "code",
      "metadata": {
        "id": "mHRWYIIcXyz_",
        "colab_type": "code",
        "colab": {}
      },
      "source": [
        "#example of creating and training a SVM classifier\n",
        "clf = SVC(C=2, kernel = 'rbf', gamma = 0.08)"
      ],
      "execution_count": 0,
      "outputs": []
    },
    {
      "cell_type": "code",
      "metadata": {
        "id": "I0jyUYJAcJ0E",
        "colab_type": "code",
        "outputId": "9a2f7fc7-aae2-4878-9f67-6db8c837f69d",
        "colab": {
          "base_uri": "https://localhost:8080/",
          "height": 85
        }
      },
      "source": [
        "clf.fit(X_train, y_train)\n"
      ],
      "execution_count": 0,
      "outputs": [
        {
          "output_type": "execute_result",
          "data": {
            "text/plain": [
              "SVC(C=2, cache_size=200, class_weight=None, coef0=0.0,\n",
              "  decision_function_shape='ovr', degree=3, gamma=0.08, kernel='rbf',\n",
              "  max_iter=-1, probability=False, random_state=None, shrinking=True,\n",
              "  tol=0.001, verbose=False)"
            ]
          },
          "metadata": {
            "tags": []
          },
          "execution_count": 56
        }
      ]
    },
    {
      "cell_type": "code",
      "metadata": {
        "id": "JbR6-77FcJ28",
        "colab_type": "code",
        "outputId": "3ac8519e-bca3-4d35-bbb9-db9c39535ec0",
        "colab": {
          "base_uri": "https://localhost:8080/",
          "height": 34
        }
      },
      "source": [
        "clf.score(X_train, y_train)\n"
      ],
      "execution_count": 0,
      "outputs": [
        {
          "output_type": "execute_result",
          "data": {
            "text/plain": [
              "0.9540507859733979"
            ]
          },
          "metadata": {
            "tags": []
          },
          "execution_count": 57
        }
      ]
    },
    {
      "cell_type": "code",
      "metadata": {
        "id": "dYhmhWKJYkJP",
        "colab_type": "code",
        "outputId": "0df48a95-870b-4911-fecc-3b5c0baf40fc",
        "colab": {
          "base_uri": "https://localhost:8080/",
          "height": 34
        }
      },
      "source": [
        "clf.score(X_test,y_test)\n"
      ],
      "execution_count": 0,
      "outputs": [
        {
          "output_type": "execute_result",
          "data": {
            "text/plain": [
              "0.7320169252468265"
            ]
          },
          "metadata": {
            "tags": []
          },
          "execution_count": 58
        }
      ]
    },
    {
      "cell_type": "markdown",
      "metadata": {
        "id": "dn_810eiH9Wv",
        "colab_type": "text"
      },
      "source": [
        "## Grid Searching"
      ]
    },
    {
      "cell_type": "markdown",
      "metadata": {
        "id": "G-hZnhnSd7an",
        "colab_type": "text"
      },
      "source": [
        "Grid searching checks a \"grid\" or matrix of possible values for multiple hyperparameters. The SVM with RBF kernel can take the regularization hyperparameter 'C' and the hyperparameter \"gamma\" for its Gaussian kernel. To optimize both of these together, we have to test them in combinations. \n",
        "\n",
        "These tests should not use the Test set to evaluate performance, because our Test results would not be truly independent if we have chosen hyperparameters based on the Test set.\n",
        "\n",
        "Instead, we use k-Fold cross validation of the Training set to find the best hyperparameters in the grid search."
      ]
    },
    {
      "cell_type": "code",
      "metadata": {
        "id": "XKmRYQfbHCAx",
        "colab_type": "code",
        "colab": {}
      },
      "source": [
        ""
      ],
      "execution_count": 0,
      "outputs": []
    },
    {
      "cell_type": "code",
      "metadata": {
        "id": "qcTt2LY5Ip61",
        "colab_type": "code",
        "colab": {}
      },
      "source": [
        "from sklearn.model_selection import StratifiedKFold"
      ],
      "execution_count": 0,
      "outputs": []
    },
    {
      "cell_type": "code",
      "metadata": {
        "id": "0926qwM5UDJc",
        "colab_type": "code",
        "colab": {}
      },
      "source": [
        "## Grid Searching:\n",
        "c_list = np.geomspace(0.1, 50000,num=10)\n",
        "gamma_list = np.geomspace(0.000001, 2, num = 10)\n",
        "dec_funcs = ['ovr', 'ovo']\n",
        "n_folds = 5\n",
        "\n",
        "skf = StratifiedKFold(n_splits=n_folds)\n"
      ],
      "execution_count": 0,
      "outputs": []
    },
    {
      "cell_type": "code",
      "metadata": {
        "id": "DnEUR2I3wu5Z",
        "colab_type": "code",
        "colab": {}
      },
      "source": [
        "results = pd.DataFrame()"
      ],
      "execution_count": 0,
      "outputs": []
    },
    {
      "cell_type": "code",
      "metadata": {
        "id": "lW9dw1funmdp",
        "colab_type": "code",
        "colab": {}
      },
      "source": [
        "# get training and validation indices for cross-validation\n",
        "# (this is for hyper-parameter optimization, so using only the Training set)\n",
        "\n",
        "fold = 0\n",
        "for trn_ix, val_ix in skf.split(X_train, y_train):\n",
        "  for c in c_list:\n",
        "    for gamma in gamma_list:\n",
        "      for dec in dec_funcs:\n",
        "        clf = SVC(C=c, kernel='rbf', gamma=gamma, decision_function_shape=dec)\n",
        "        clf.fit(X_train[trn_ix], y_train[trn_ix])\n",
        "        accuracy = clf.score(X_train[val_ix], y_train[val_ix])\n",
        "        results = results.append({'Fold': fold, \n",
        "                                  'Gamma': gamma, 'C': c, \n",
        "                                  'DecFunc': dec,\n",
        "                                  'ValAccuracy': accuracy}, ignore_index=True)\n",
        "\n",
        "  fold += 1  "
      ],
      "execution_count": 0,
      "outputs": []
    },
    {
      "cell_type": "code",
      "metadata": {
        "colab_type": "code",
        "id": "YkaOUOm4WBYz",
        "colab": {}
      },
      "source": [
        "results.head()"
      ],
      "execution_count": 0,
      "outputs": []
    },
    {
      "cell_type": "code",
      "metadata": {
        "id": "nGrNM6URUOiQ",
        "colab_type": "code",
        "colab": {}
      },
      "source": [
        "results.loc[results['ValAccuracy'] == results['ValAccuracy'].max()]"
      ],
      "execution_count": 0,
      "outputs": []
    },
    {
      "cell_type": "code",
      "metadata": {
        "id": "Z5b_9MUc0LCg",
        "colab_type": "code",
        "colab": {}
      },
      "source": [
        "results.to_csv('svm_raw_grid_results.csv', header=True, index=False)"
      ],
      "execution_count": 0,
      "outputs": []
    },
    {
      "cell_type": "code",
      "metadata": {
        "id": "mRiEWcMs3UPF",
        "colab_type": "code",
        "colab": {}
      },
      "source": [
        "results = pd.read_csv('svm_raw_grid_results.csv', index_col=None, header=0)"
      ],
      "execution_count": 0,
      "outputs": []
    },
    {
      "cell_type": "code",
      "metadata": {
        "id": "hDHfrPe3ikg9",
        "colab_type": "code",
        "colab": {}
      },
      "source": [
        "# get average for all folds by hyperparameter set:\n",
        "mean_acc = results.groupby(['C', 'Gamma', 'DecFunc'], as_index=False).mean().drop('Fold', axis=1)"
      ],
      "execution_count": 0,
      "outputs": []
    },
    {
      "cell_type": "code",
      "metadata": {
        "id": "6N-JwHSxk8WM",
        "colab_type": "code",
        "outputId": "dda52d63-3f80-45e7-b30a-fdfa28dbefdd",
        "colab": {
          "base_uri": "https://localhost:8080/",
          "height": 545
        }
      },
      "source": [
        "mean_acc[mean_acc['ValAccuracy']>0.7]"
      ],
      "execution_count": 0,
      "outputs": [
        {
          "output_type": "execute_result",
          "data": {
            "text/html": [
              "<div>\n",
              "<style scoped>\n",
              "    .dataframe tbody tr th:only-of-type {\n",
              "        vertical-align: middle;\n",
              "    }\n",
              "\n",
              "    .dataframe tbody tr th {\n",
              "        vertical-align: top;\n",
              "    }\n",
              "\n",
              "    .dataframe thead th {\n",
              "        text-align: right;\n",
              "    }\n",
              "</style>\n",
              "<table border=\"1\" class=\"dataframe\">\n",
              "  <thead>\n",
              "    <tr style=\"text-align: right;\">\n",
              "      <th></th>\n",
              "      <th>C</th>\n",
              "      <th>Gamma</th>\n",
              "      <th>DecFunc</th>\n",
              "      <th>ValAccuracy</th>\n",
              "    </tr>\n",
              "  </thead>\n",
              "  <tbody>\n",
              "    <tr>\n",
              "      <th>42</th>\n",
              "      <td>5.179475</td>\n",
              "      <td>0.016407</td>\n",
              "      <td>ovo</td>\n",
              "      <td>0.715942</td>\n",
              "    </tr>\n",
              "    <tr>\n",
              "      <th>43</th>\n",
              "      <td>5.179475</td>\n",
              "      <td>0.016407</td>\n",
              "      <td>ovr</td>\n",
              "      <td>0.715942</td>\n",
              "    </tr>\n",
              "    <tr>\n",
              "      <th>56</th>\n",
              "      <td>37.275937</td>\n",
              "      <td>0.001486</td>\n",
              "      <td>ovo</td>\n",
              "      <td>0.716563</td>\n",
              "    </tr>\n",
              "    <tr>\n",
              "      <th>57</th>\n",
              "      <td>37.275937</td>\n",
              "      <td>0.001486</td>\n",
              "      <td>ovr</td>\n",
              "      <td>0.716563</td>\n",
              "    </tr>\n",
              "    <tr>\n",
              "      <th>58</th>\n",
              "      <td>37.275937</td>\n",
              "      <td>0.016407</td>\n",
              "      <td>ovo</td>\n",
              "      <td>0.703313</td>\n",
              "    </tr>\n",
              "    <tr>\n",
              "      <th>59</th>\n",
              "      <td>37.275937</td>\n",
              "      <td>0.016407</td>\n",
              "      <td>ovr</td>\n",
              "      <td>0.703313</td>\n",
              "    </tr>\n",
              "    <tr>\n",
              "      <th>70</th>\n",
              "      <td>268.269580</td>\n",
              "      <td>0.000135</td>\n",
              "      <td>ovo</td>\n",
              "      <td>0.706832</td>\n",
              "    </tr>\n",
              "    <tr>\n",
              "      <th>71</th>\n",
              "      <td>268.269580</td>\n",
              "      <td>0.000135</td>\n",
              "      <td>ovr</td>\n",
              "      <td>0.706832</td>\n",
              "    </tr>\n",
              "    <tr>\n",
              "      <th>72</th>\n",
              "      <td>268.269580</td>\n",
              "      <td>0.001486</td>\n",
              "      <td>ovo</td>\n",
              "      <td>0.705176</td>\n",
              "    </tr>\n",
              "    <tr>\n",
              "      <th>73</th>\n",
              "      <td>268.269580</td>\n",
              "      <td>0.001486</td>\n",
              "      <td>ovr</td>\n",
              "      <td>0.705176</td>\n",
              "    </tr>\n",
              "    <tr>\n",
              "      <th>86</th>\n",
              "      <td>1930.697729</td>\n",
              "      <td>0.000135</td>\n",
              "      <td>ovo</td>\n",
              "      <td>0.709731</td>\n",
              "    </tr>\n",
              "    <tr>\n",
              "      <th>87</th>\n",
              "      <td>1930.697729</td>\n",
              "      <td>0.000135</td>\n",
              "      <td>ovr</td>\n",
              "      <td>0.709731</td>\n",
              "    </tr>\n",
              "    <tr>\n",
              "      <th>100</th>\n",
              "      <td>13894.954944</td>\n",
              "      <td>0.000012</td>\n",
              "      <td>ovo</td>\n",
              "      <td>0.715321</td>\n",
              "    </tr>\n",
              "    <tr>\n",
              "      <th>101</th>\n",
              "      <td>13894.954944</td>\n",
              "      <td>0.000012</td>\n",
              "      <td>ovr</td>\n",
              "      <td>0.715321</td>\n",
              "    </tr>\n",
              "    <tr>\n",
              "      <th>114</th>\n",
              "      <td>100000.000000</td>\n",
              "      <td>0.000001</td>\n",
              "      <td>ovo</td>\n",
              "      <td>0.714907</td>\n",
              "    </tr>\n",
              "    <tr>\n",
              "      <th>115</th>\n",
              "      <td>100000.000000</td>\n",
              "      <td>0.000001</td>\n",
              "      <td>ovr</td>\n",
              "      <td>0.714907</td>\n",
              "    </tr>\n",
              "  </tbody>\n",
              "</table>\n",
              "</div>"
            ],
            "text/plain": [
              "                 C     Gamma DecFunc  ValAccuracy\n",
              "42        5.179475  0.016407     ovo     0.715942\n",
              "43        5.179475  0.016407     ovr     0.715942\n",
              "56       37.275937  0.001486     ovo     0.716563\n",
              "57       37.275937  0.001486     ovr     0.716563\n",
              "58       37.275937  0.016407     ovo     0.703313\n",
              "59       37.275937  0.016407     ovr     0.703313\n",
              "70      268.269580  0.000135     ovo     0.706832\n",
              "71      268.269580  0.000135     ovr     0.706832\n",
              "72      268.269580  0.001486     ovo     0.705176\n",
              "73      268.269580  0.001486     ovr     0.705176\n",
              "86     1930.697729  0.000135     ovo     0.709731\n",
              "87     1930.697729  0.000135     ovr     0.709731\n",
              "100   13894.954944  0.000012     ovo     0.715321\n",
              "101   13894.954944  0.000012     ovr     0.715321\n",
              "114  100000.000000  0.000001     ovo     0.714907\n",
              "115  100000.000000  0.000001     ovr     0.714907"
            ]
          },
          "metadata": {
            "tags": []
          },
          "execution_count": 61
        }
      ]
    },
    {
      "cell_type": "code",
      "metadata": {
        "id": "l3Nqd_uHjig_",
        "colab_type": "code",
        "outputId": "3882b0c6-1d23-4a75-8433-9b7081931907",
        "colab": {
          "base_uri": "https://localhost:8080/",
          "height": 111
        }
      },
      "source": [
        "mean_acc[mean_acc['ValAccuracy'] == mean_acc['ValAccuracy'].max()]"
      ],
      "execution_count": 0,
      "outputs": [
        {
          "output_type": "execute_result",
          "data": {
            "text/html": [
              "<div>\n",
              "<style scoped>\n",
              "    .dataframe tbody tr th:only-of-type {\n",
              "        vertical-align: middle;\n",
              "    }\n",
              "\n",
              "    .dataframe tbody tr th {\n",
              "        vertical-align: top;\n",
              "    }\n",
              "\n",
              "    .dataframe thead th {\n",
              "        text-align: right;\n",
              "    }\n",
              "</style>\n",
              "<table border=\"1\" class=\"dataframe\">\n",
              "  <thead>\n",
              "    <tr style=\"text-align: right;\">\n",
              "      <th></th>\n",
              "      <th>C</th>\n",
              "      <th>Gamma</th>\n",
              "      <th>DecFunc</th>\n",
              "      <th>ValAccuracy</th>\n",
              "    </tr>\n",
              "  </thead>\n",
              "  <tbody>\n",
              "    <tr>\n",
              "      <th>56</th>\n",
              "      <td>37.275937</td>\n",
              "      <td>0.001486</td>\n",
              "      <td>ovo</td>\n",
              "      <td>0.716563</td>\n",
              "    </tr>\n",
              "    <tr>\n",
              "      <th>57</th>\n",
              "      <td>37.275937</td>\n",
              "      <td>0.001486</td>\n",
              "      <td>ovr</td>\n",
              "      <td>0.716563</td>\n",
              "    </tr>\n",
              "  </tbody>\n",
              "</table>\n",
              "</div>"
            ],
            "text/plain": [
              "            C     Gamma DecFunc  ValAccuracy\n",
              "56  37.275937  0.001486     ovo     0.716563\n",
              "57  37.275937  0.001486     ovr     0.716563"
            ]
          },
          "metadata": {
            "tags": []
          },
          "execution_count": 62
        }
      ]
    },
    {
      "cell_type": "code",
      "metadata": {
        "id": "Wi84VYSckSFo",
        "colab_type": "code",
        "colab": {}
      },
      "source": [
        "import matplotlib.pyplot as plt\n",
        "from mpl_toolkits import mplot3d"
      ],
      "execution_count": 0,
      "outputs": []
    },
    {
      "cell_type": "code",
      "metadata": {
        "id": "HHBp_FnXkc6K",
        "colab_type": "code",
        "outputId": "2866208c-5152-4fba-9a82-b6e9c240707e",
        "colab": {
          "base_uri": "https://localhost:8080/",
          "height": 248
        }
      },
      "source": [
        "fig = plt.figure()\n",
        "ax = fig.gca(projection='3d')\n",
        "surf = ax.plot_trisurf(mean_acc['C'], mean_acc['Gamma'], mean_acc['ValAccuracy'], cmap=plt.cm.viridis, linewidth=0.2)\n",
        "ax.view_init(10, 70)\n",
        "fig.colorbar( surf, shrink=0.5, aspect=5)\n",
        "ax.set_xlabel('C')\n",
        "ax.set_ylabel('gamma')\n",
        "ax.set_zlabel('Validation Accuracy')\n",
        "ax.dist = 10\n",
        "plt.show()\n"
      ],
      "execution_count": 0,
      "outputs": [
        {
          "output_type": "display_data",
          "data": {
            "image/png": "[encoded data removed]",
            "text/plain": [
              "<Figure size 432x288 with 2 Axes>"
            ]
          },
          "metadata": {
            "tags": []
          }
        }
      ]
    },
    {
      "cell_type": "code",
      "metadata": {
        "id": "pYePUZGklV_L",
        "colab_type": "code",
        "colab": {}
      },
      "source": [
        ""
      ],
      "execution_count": 0,
      "outputs": []
    },
    {
      "cell_type": "markdown",
      "metadata": {
        "id": "ujcKw4pPbiM8",
        "colab_type": "text"
      },
      "source": [
        "### Secondary Grid search"
      ]
    },
    {
      "cell_type": "markdown",
      "metadata": {
        "id": "dBWZFalVe6pO",
        "colab_type": "text"
      },
      "source": [
        "Repeat the grid search, but test a smaller range of values, near the best value found earlier.\n",
        "\n",
        "Again, still use Cross Validation on the Training set only here. "
      ]
    },
    {
      "cell_type": "code",
      "metadata": {
        "colab_type": "code",
        "id": "f5Z0L8KlbhS0",
        "colab": {}
      },
      "source": [
        "from sklearn.model_selection import StratifiedKFold"
      ],
      "execution_count": 0,
      "outputs": []
    },
    {
      "cell_type": "code",
      "metadata": {
        "colab_type": "code",
        "id": "KnBOegkIbhS2",
        "colab": {}
      },
      "source": [
        "## Grid Searching:\n",
        "c_list = np.linspace(1, 20,num=10)\n",
        "gamma_list = np.linspace(0.01, 0.1, num = 10)\n",
        "dec_funcs = ['ovr', 'ovo']\n",
        "n_folds = 5\n",
        "\n",
        "skf = StratifiedKFold(n_splits=n_folds)\n"
      ],
      "execution_count": 0,
      "outputs": []
    },
    {
      "cell_type": "code",
      "metadata": {
        "colab_type": "code",
        "id": "a6A2U5rtbhS3",
        "colab": {}
      },
      "source": [
        "results = pd.DataFrame()"
      ],
      "execution_count": 0,
      "outputs": []
    },
    {
      "cell_type": "code",
      "metadata": {
        "colab_type": "code",
        "id": "xBXlcRLSbhS5",
        "colab": {}
      },
      "source": [
        "# get training and validation indices for cross-validation\n",
        "# (this is for hyper-parameter optimization, so using only the Training set)\n",
        "\n",
        "fold = 0\n",
        "for trn_ix, val_ix in skf.split(X_train, y_train):\n",
        "  for c in c_list:\n",
        "    for gamma in gamma_list:\n",
        "      for dec in dec_funcs:\n",
        "        clf = SVC(C=c, kernel='rbf', gamma=gamma, decision_function_shape=dec)\n",
        "        clf.fit(X_train[trn_ix], y_train[trn_ix])\n",
        "        accuracy = clf.score(X_train[val_ix], y_train[val_ix])\n",
        "        results = results.append({'Fold': fold, \n",
        "                                  'Gamma': gamma, 'C': c, \n",
        "                                  'DecFunc': dec,\n",
        "                                  'ValAccuracy': accuracy}, ignore_index=True)\n",
        "\n",
        "  fold += 1  "
      ],
      "execution_count": 0,
      "outputs": []
    },
    {
      "cell_type": "code",
      "metadata": {
        "id": "zAbFJDEYlkBI",
        "colab_type": "code",
        "colab": {}
      },
      "source": [
        ""
      ],
      "execution_count": 0,
      "outputs": []
    },
    {
      "cell_type": "code",
      "metadata": {
        "colab_type": "code",
        "id": "Td8HFD8Je4HZ",
        "colab": {}
      },
      "source": [
        "results.loc[results['ValAccuracy'] == results['ValAccuracy'].max()]"
      ],
      "execution_count": 0,
      "outputs": []
    },
    {
      "cell_type": "code",
      "metadata": {
        "colab_type": "code",
        "id": "YzwQMvP0e4Hb",
        "colab": {}
      },
      "source": [
        "results.to_csv('svm_raw_grid_results2.csv', header=True, index=False)"
      ],
      "execution_count": 0,
      "outputs": []
    },
    {
      "cell_type": "code",
      "metadata": {
        "colab_type": "code",
        "id": "n3gVA2qPe4Hc",
        "colab": {}
      },
      "source": [
        "results = pd.read_csv('svm_raw_grid_results2.csv', index_col=None, header=0)"
      ],
      "execution_count": 0,
      "outputs": []
    },
    {
      "cell_type": "code",
      "metadata": {
        "colab_type": "code",
        "id": "_GN3U4Sre4He",
        "colab": {}
      },
      "source": [
        "mean_acc = results.groupby(['C', 'Gamma', 'DecFunc'], as_index=False).mean().drop('Fold', axis=1)"
      ],
      "execution_count": 0,
      "outputs": []
    },
    {
      "cell_type": "code",
      "metadata": {
        "id": "FO_ehbO0jQXj",
        "colab_type": "code",
        "outputId": "34745c78-a792-4c9f-dff4-fd253bc886c6",
        "colab": {
          "base_uri": "https://localhost:8080/",
          "height": 111
        }
      },
      "source": [
        "mean_acc[mean_acc['ValAccuracy'] == mean_acc['ValAccuracy'].max()]"
      ],
      "execution_count": 0,
      "outputs": [
        {
          "output_type": "execute_result",
          "data": {
            "text/html": [
              "<div>\n",
              "<style scoped>\n",
              "    .dataframe tbody tr th:only-of-type {\n",
              "        vertical-align: middle;\n",
              "    }\n",
              "\n",
              "    .dataframe tbody tr th {\n",
              "        vertical-align: top;\n",
              "    }\n",
              "\n",
              "    .dataframe thead th {\n",
              "        text-align: right;\n",
              "    }\n",
              "</style>\n",
              "<table border=\"1\" class=\"dataframe\">\n",
              "  <thead>\n",
              "    <tr style=\"text-align: right;\">\n",
              "      <th></th>\n",
              "      <th>C</th>\n",
              "      <th>Gamma</th>\n",
              "      <th>DecFunc</th>\n",
              "      <th>ValAccuracy</th>\n",
              "    </tr>\n",
              "  </thead>\n",
              "  <tbody>\n",
              "    <tr>\n",
              "      <th>30</th>\n",
              "      <td>3.111111</td>\n",
              "      <td>0.06</td>\n",
              "      <td>ovo</td>\n",
              "      <td>0.725113</td>\n",
              "    </tr>\n",
              "    <tr>\n",
              "      <th>31</th>\n",
              "      <td>3.111111</td>\n",
              "      <td>0.06</td>\n",
              "      <td>ovr</td>\n",
              "      <td>0.725113</td>\n",
              "    </tr>\n",
              "  </tbody>\n",
              "</table>\n",
              "</div>"
            ],
            "text/plain": [
              "           C  Gamma DecFunc  ValAccuracy\n",
              "30  3.111111   0.06     ovo     0.725113\n",
              "31  3.111111   0.06     ovr     0.725113"
            ]
          },
          "metadata": {
            "tags": []
          },
          "execution_count": 72
        }
      ]
    },
    {
      "cell_type": "code",
      "metadata": {
        "colab_type": "code",
        "id": "Plbe2yzgjcrs",
        "colab": {}
      },
      "source": [
        "import matplotlib.pyplot as plt\n",
        "from mpl_toolkits import mplot3d"
      ],
      "execution_count": 0,
      "outputs": []
    },
    {
      "cell_type": "code",
      "metadata": {
        "colab_type": "code",
        "id": "wmDHIDH3jcru",
        "outputId": "54381c3c-4eb3-49a3-f8a8-f0a2fa0c420a",
        "colab": {
          "base_uri": "https://localhost:8080/",
          "height": 248
        }
      },
      "source": [
        "fig = plt.figure()\n",
        "ax = fig.gca(projection='3d')\n",
        "surf = ax.plot_trisurf(mean_acc['C'], mean_acc['Gamma'], mean_acc['ValAccuracy'], cmap=plt.cm.viridis, linewidth=0.2)\n",
        "ax.view_init(10, 750)\n",
        "fig.colorbar( surf, shrink=0.5, aspect=5)\n",
        "ax.set_xlabel('C')\n",
        "ax.set_ylabel('gamma')\n",
        "ax.set_zlabel('Validation Accuracy')\n",
        "ax.dist = 13\n",
        "plt.show()\n"
      ],
      "execution_count": 0,
      "outputs": [
        {
          "output_type": "display_data",
          "data": {
            "image/png": "[encoded data removed]",
            "text/plain": [
              "<Figure size 432x288 with 2 Axes>"
            ]
          },
          "metadata": {
            "tags": []
          }
        }
      ]
    },
    {
      "cell_type": "markdown",
      "metadata": {
        "id": "s-MkDnBBZsH5",
        "colab_type": "text"
      },
      "source": [
        "### Model Evaluation"
      ]
    },
    {
      "cell_type": "code",
      "metadata": {
        "id": "Xbpfy8CpfvOD",
        "colab_type": "code",
        "outputId": "9eb957ae-c273-4281-a934-0ba9d8b06706",
        "colab": {
          "base_uri": "https://localhost:8080/",
          "height": 85
        }
      },
      "source": [
        "#clf = SVC(C=4, kernel = 'rbf', gamma = 0.03)\n",
        "clf = SVC(C=3, kernel = 'rbf', gamma = 0.06)\n",
        "clf.fit(X_train, y_train)\n"
      ],
      "execution_count": 0,
      "outputs": [
        {
          "output_type": "execute_result",
          "data": {
            "text/plain": [
              "SVC(C=3, cache_size=200, class_weight=None, coef0=0.0,\n",
              "  decision_function_shape='ovr', degree=3, gamma=0.06, kernel='rbf',\n",
              "  max_iter=-1, probability=False, random_state=None, shrinking=True,\n",
              "  tol=0.001, verbose=False)"
            ]
          },
          "metadata": {
            "tags": []
          },
          "execution_count": 75
        }
      ]
    },
    {
      "cell_type": "code",
      "metadata": {
        "id": "KvjyYuJOgRc2",
        "colab_type": "code",
        "outputId": "f23db0ef-7f29-4ab8-e4a2-c5d3ab589187",
        "colab": {
          "base_uri": "https://localhost:8080/",
          "height": 34
        }
      },
      "source": [
        "clf.score(X_train, y_train)"
      ],
      "execution_count": 0,
      "outputs": [
        {
          "output_type": "execute_result",
          "data": {
            "text/plain": [
              "0.9600967351874244"
            ]
          },
          "metadata": {
            "tags": []
          },
          "execution_count": 76
        }
      ]
    },
    {
      "cell_type": "code",
      "metadata": {
        "id": "BFr-ZR-dgRSI",
        "colab_type": "code",
        "colab": {}
      },
      "source": [
        ""
      ],
      "execution_count": 0,
      "outputs": []
    },
    {
      "cell_type": "code",
      "metadata": {
        "id": "ed__u8hSic71",
        "colab_type": "code",
        "outputId": "3c145896-e55f-4edd-e207-42e4679ecae8",
        "colab": {
          "base_uri": "https://localhost:8080/",
          "height": 34
        }
      },
      "source": [
        "# get test accuracy:\n",
        "clf.score(X_test, y_test)"
      ],
      "execution_count": 0,
      "outputs": [
        {
          "output_type": "execute_result",
          "data": {
            "text/plain": [
              "0.7371885284438175"
            ]
          },
          "metadata": {
            "tags": []
          },
          "execution_count": 77
        }
      ]
    },
    {
      "cell_type": "code",
      "metadata": {
        "id": "zAUKJF4jic75",
        "colab_type": "code",
        "colab": {}
      },
      "source": [
        "# get test set predictions:\n",
        "y_hat = clf.predict(X_test)"
      ],
      "execution_count": 0,
      "outputs": []
    },
    {
      "cell_type": "code",
      "metadata": {
        "id": "WXk5tUN4ic76",
        "colab_type": "code",
        "colab": {}
      },
      "source": [
        "# create confusion matrix:\n",
        "cf = pd.DataFrame(confusion_matrix(y_test,y_hat))\n",
        "cf.columns = le.inverse_transform(cf.columns)\n",
        "cf.index = le.inverse_transform(cf.index)"
      ],
      "execution_count": 0,
      "outputs": []
    },
    {
      "cell_type": "code",
      "metadata": {
        "id": "wZ8jHkXBic78",
        "colab_type": "code",
        "outputId": "5089d651-1218-418a-f207-b5d359f68bba",
        "colab": {
          "base_uri": "https://localhost:8080/",
          "height": 142
        }
      },
      "source": [
        "cf"
      ],
      "execution_count": 0,
      "outputs": [
        {
          "output_type": "execute_result",
          "data": {
            "text/html": [
              "<div>\n",
              "<style scoped>\n",
              "    .dataframe tbody tr th:only-of-type {\n",
              "        vertical-align: middle;\n",
              "    }\n",
              "\n",
              "    .dataframe tbody tr th {\n",
              "        vertical-align: top;\n",
              "    }\n",
              "\n",
              "    .dataframe thead th {\n",
              "        text-align: right;\n",
              "    }\n",
              "</style>\n",
              "<table border=\"1\" class=\"dataframe\">\n",
              "  <thead>\n",
              "    <tr style=\"text-align: right;\">\n",
              "      <th></th>\n",
              "      <th>negative</th>\n",
              "      <th>neutral</th>\n",
              "      <th>positive</th>\n",
              "    </tr>\n",
              "  </thead>\n",
              "  <tbody>\n",
              "    <tr>\n",
              "      <th>negative</th>\n",
              "      <td>508</td>\n",
              "      <td>140</td>\n",
              "      <td>61</td>\n",
              "    </tr>\n",
              "    <tr>\n",
              "      <th>neutral</th>\n",
              "      <td>95</td>\n",
              "      <td>518</td>\n",
              "      <td>96</td>\n",
              "    </tr>\n",
              "    <tr>\n",
              "      <th>positive</th>\n",
              "      <td>62</td>\n",
              "      <td>105</td>\n",
              "      <td>542</td>\n",
              "    </tr>\n",
              "  </tbody>\n",
              "</table>\n",
              "</div>"
            ],
            "text/plain": [
              "          negative  neutral  positive\n",
              "negative       508      140        61\n",
              "neutral         95      518        96\n",
              "positive        62      105       542"
            ]
          },
          "metadata": {
            "tags": []
          },
          "execution_count": 80
        }
      ]
    },
    {
      "cell_type": "code",
      "metadata": {
        "id": "vdtSyof_ic7-",
        "colab_type": "code",
        "colab": {}
      },
      "source": [
        ""
      ],
      "execution_count": 0,
      "outputs": []
    },
    {
      "cell_type": "code",
      "metadata": {
        "id": "w5_7Pcg0ic7_",
        "colab_type": "code",
        "outputId": "a67a20d3-2aef-4cc8-bdbf-6e119b5f1021",
        "colab": {
          "base_uri": "https://localhost:8080/",
          "height": 68
        }
      },
      "source": [
        "prfs = precision_recall_fscore_support(y_test,y_hat, average='macro')\n",
        "\n",
        "print(\"Precision:\\t{0:.4f} \\nRecall: \\t{1:.4f} \\nF Score: \\t{2:.4f}\".format(prfs[0],prfs[1],prfs[2]))"
      ],
      "execution_count": 0,
      "outputs": [
        {
          "output_type": "stream",
          "text": [
            "Precision:\t0.7394 \n",
            "Recall: \t0.7372 \n",
            "F Score: \t0.7377\n"
          ],
          "name": "stdout"
        }
      ]
    }
  ]
}